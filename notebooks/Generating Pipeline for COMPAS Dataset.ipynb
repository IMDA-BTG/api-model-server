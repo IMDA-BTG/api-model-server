{
 "cells": [
  {
   "cell_type": "code",
   "execution_count": 1,
   "id": "9eba3da7",
   "metadata": {
    "ExecuteTime": {
     "end_time": "2022-05-18T09:55:12.434452Z",
     "start_time": "2022-05-18T09:55:10.188496Z"
    }
   },
   "outputs": [
    {
     "data": {
      "text/html": [
       "<style>.container { width:100% !important; }</style>"
      ],
      "text/plain": [
       "<IPython.core.display.HTML object>"
      ]
     },
     "metadata": {},
     "output_type": "display_data"
    }
   ],
   "source": [
    "from IPython.core.display import display, HTML\n",
    "display(HTML(\"<style>.container { width:100% !important; }</style>\"))\n",
    "import pandas as pd\n",
    "import sqlite3\n",
    "import pickle\n",
    "import os\n",
    "import joblib\n",
    "\n",
    "from sklearn.metrics import accuracy_score, precision_score, recall_score\n",
    "from sklearn.tree import DecisionTreeClassifier\n",
    "from sklearn.ensemble import RandomForestClassifier, AdaBoostClassifier, GradientBoostingClassifier\n",
    "from sklearn.ensemble import BaggingClassifier\n",
    "from sklearn.model_selection import train_test_split\n",
    "from sklearn.linear_model import LogisticRegression\n",
    "from sklearn.model_selection import cross_val_score\n",
    "from sklearn.preprocessing import OneHotEncoder, LabelEncoder\n",
    "from sklearn.metrics import plot_confusion_matrix\n",
    "from sklearn.metrics import f1_score, accuracy_score\n",
    "from sklearn.pipeline import Pipeline, make_pipeline\n",
    "from sklearn.compose import ColumnTransformer, make_column_transformer\n",
    "\n",
    "import warnings\n",
    "warnings.filterwarnings(\"ignore\")"
   ]
  },
  {
   "cell_type": "markdown",
   "id": "f724426e",
   "metadata": {},
   "source": [
    "# Creating a pipeline for COMPAS dataset\n",
    "\n",
    "Please note that the results from this pipeline might differ from the pickle standalone version as we used a different encoding method"
   ]
  },
  {
   "cell_type": "code",
   "execution_count": 2,
   "id": "73e266d5",
   "metadata": {
    "ExecuteTime": {
     "end_time": "2022-05-18T09:55:13.426832Z",
     "start_time": "2022-05-18T09:55:12.440457Z"
    }
   },
   "outputs": [],
   "source": [
    "url = 'https://raw.githubusercontent.com/propublica/compas-analysis/master/compas-scores-two-years.csv'\n",
    "df = pd.read_csv(url)\n",
    "df = df[df[\"days_b_screening_arrest\"] <=30][df[\"days_b_screening_arrest\"] >= -30][df[\"score_text\"] != \"N/A\"][df[\"is_recid\"] != -1]"
   ]
  },
  {
   "cell_type": "markdown",
   "id": "5eee6bcb",
   "metadata": {},
   "source": [
    "## Split the dataset here"
   ]
  },
  {
   "cell_type": "code",
   "execution_count": 3,
   "id": "471c749d",
   "metadata": {
    "ExecuteTime": {
     "end_time": "2022-05-18T09:55:13.441252Z",
     "start_time": "2022-05-18T09:55:13.428094Z"
    }
   },
   "outputs": [],
   "source": [
    "X = df.drop(\"two_year_recid\", axis=1)\n",
    "y = df[[\"two_year_recid\"]]"
   ]
  },
  {
   "cell_type": "code",
   "execution_count": 4,
   "id": "2423f200",
   "metadata": {
    "ExecuteTime": {
     "end_time": "2022-05-18T09:55:14.109790Z",
     "start_time": "2022-05-18T09:55:14.101147Z"
    }
   },
   "outputs": [
    {
     "name": "stdout",
     "output_type": "stream",
     "text": [
      "X = 4629, X = 1543\n"
     ]
    }
   ],
   "source": [
    "X_train, X_test, y_train, y_test = train_test_split(X, y, random_state=0)\n",
    "print(\"X = {0}, X = {1}\".format(len(X_train), len(X_test)))"
   ]
  },
  {
   "cell_type": "markdown",
   "id": "4863b340",
   "metadata": {},
   "source": [
    "## Create a pipeline with data transformation"
   ]
  },
  {
   "cell_type": "code",
   "execution_count": 8,
   "id": "ff385c10",
   "metadata": {
    "ExecuteTime": {
     "end_time": "2022-05-18T09:55:58.397649Z",
     "start_time": "2022-05-18T09:55:58.394513Z"
    }
   },
   "outputs": [],
   "source": [
    "class columnSelectTransformer():\n",
    "    \"\"\"custom transformer to select columns\"\"\"\n",
    "    def __init__(self, columns):\n",
    "        self.columns = columns \n",
    "    \n",
    "    def transform(self, X, y=None):\n",
    "        return X[self.columns]\n",
    "    \n",
    "    def fit(self, X, y=None):\n",
    "        return self"
   ]
  },
  {
   "cell_type": "code",
   "execution_count": 9,
   "id": "8036b3a2",
   "metadata": {
    "ExecuteTime": {
     "end_time": "2022-05-18T09:55:59.239386Z",
     "start_time": "2022-05-18T09:55:59.203095Z"
    }
   },
   "outputs": [],
   "source": [
    "pipeline = Pipeline(steps=[\n",
    "    (\"selector\", ColumnTransformer([(\"selector\", \"passthrough\", [\"race\", \"sex\", \"age_cat\", \"c_charge_degree\"])], remainder=\"drop\")),\n",
    "    (\"columnEncoder\", OneHotEncoder(sparse=False)),\n",
    "    (\"predictor\", LogisticRegression())\n",
    "])\n",
    "\n",
    "model = pipeline.fit(X_train, y_train)\n",
    "predictions = model.predict(X_test)"
   ]
  },
  {
   "cell_type": "code",
   "execution_count": 10,
   "id": "d7e75473",
   "metadata": {
    "ExecuteTime": {
     "end_time": "2022-05-18T09:56:00.024379Z",
     "start_time": "2022-05-18T09:55:59.901011Z"
    }
   },
   "outputs": [
    {
     "name": "stdout",
     "output_type": "stream",
     "text": [
      "Accuracy: 0.60(+/- 0.03)\n",
      "F1 Score: 0.49\n"
     ]
    }
   ],
   "source": [
    "score = f1_score(y_test, predictions)\n",
    "training_score = cross_val_score(model, X_train, y_train, cv=5)\n",
    "print(\"Accuracy: %0.2f(+/- %0.2f)\" % (training_score.mean(), training_score.std() * 2))\n",
    "print(\"F1 Score: %0.2f\"  % (score))"
   ]
  },
  {
   "cell_type": "markdown",
   "id": "5c33180f",
   "metadata": {},
   "source": [
    "### Saving the pipeline"
   ]
  },
  {
   "cell_type": "code",
   "execution_count": 11,
   "id": "34f43fda",
   "metadata": {
    "ExecuteTime": {
     "end_time": "2022-05-18T09:56:01.133790Z",
     "start_time": "2022-05-18T09:56:01.130715Z"
    }
   },
   "outputs": [
    {
     "name": "stdout",
     "output_type": "stream",
     "text": [
      "1.0.2\n"
     ]
    }
   ],
   "source": [
    "import sklearn\n",
    "print(sklearn.__version__)"
   ]
  },
  {
   "cell_type": "code",
   "execution_count": 14,
   "id": "0c296f9a",
   "metadata": {
    "ExecuteTime": {
     "end_time": "2022-05-18T09:56:27.114601Z",
     "start_time": "2022-05-18T09:56:27.105346Z"
    }
   },
   "outputs": [],
   "source": [
    "pickle.dump(model, open(\"../model/pickle_scikit_lr_compas.pkl\", \"wb+\"))\n",
    "joblib.dump(model, open(\"../model/joblib_scikit_lr_compas.pkl\", \"wb+\"))"
   ]
  },
  {
   "cell_type": "code",
   "execution_count": 15,
   "id": "68402072",
   "metadata": {
    "ExecuteTime": {
     "end_time": "2022-05-18T09:56:28.224296Z",
     "start_time": "2022-05-18T09:56:28.191139Z"
    }
   },
   "outputs": [],
   "source": [
    "pickle.dump(X_train, open(\"../data/pickle_scikit_lr_compas_xtrain_pkl.sav\", \"wb+\"))\n",
    "pickle.dump(y_train, open(\"../data/pickle_scikit_lr_compas_ytrain_pkl.sav\", \"wb+\"))\n",
    "pickle.dump(X_test, open(\"../data/pickle_scikit_lr_compas_xtest_pkl.sav\", \"wb+\"))\n",
    "pickle.dump(y_test, open(\"../data/pickle_scikit_lr_compas_ytest_pkl.sav\", \"wb+\"))"
   ]
  },
  {
   "cell_type": "code",
   "execution_count": 94,
   "id": "478c8a33",
   "metadata": {
    "ExecuteTime": {
     "end_time": "2022-05-18T03:07:36.205690Z",
     "start_time": "2022-05-18T03:07:36.201382Z"
    }
   },
   "outputs": [
    {
     "data": {
      "text/plain": [
       "id                                                   6165\n",
       "name                                      patrick burrows\n",
       "first                                             patrick\n",
       "last                                              burrows\n",
       "compas_screening_date                          2013-04-20\n",
       "sex                                                  Male\n",
       "dob                                            1981-10-31\n",
       "age                                                    34\n",
       "age_cat                                           25 - 45\n",
       "race                                            Caucasian\n",
       "juv_fel_count                                           0\n",
       "decile_score                                            2\n",
       "juv_misd_count                                          0\n",
       "juv_other_count                                         0\n",
       "priors_count                                            5\n",
       "days_b_screening_arrest                              -1.0\n",
       "c_jail_in                             2013-04-19 03:20:12\n",
       "c_jail_out                            2013-04-25 05:18:59\n",
       "c_case_number                               13007855MM10A\n",
       "c_offense_date                                 2013-03-08\n",
       "c_arrest_date                                         NaN\n",
       "c_days_from_compas                                   43.0\n",
       "c_charge_degree                                         M\n",
       "c_charge_desc                                 Petit Theft\n",
       "is_recid                                                1\n",
       "r_case_number                               13001415MM20A\n",
       "r_charge_degree                                      (M2)\n",
       "r_days_from_arrest                                    NaN\n",
       "r_offense_date                                 2013-05-17\n",
       "r_charge_desc                                 Petit Theft\n",
       "r_jail_in                                             NaN\n",
       "r_jail_out                                            NaN\n",
       "violent_recid                                         NaN\n",
       "is_violent_recid                                        1\n",
       "vr_case_number                              15016210CF10A\n",
       "vr_charge_degree                                     (F2)\n",
       "vr_offense_date                                2015-12-19\n",
       "vr_charge_desc             Aggrav Battery w/Deadly Weapon\n",
       "type_of_assessment                     Risk of Recidivism\n",
       "decile_score.1                                          2\n",
       "score_text                                            Low\n",
       "screening_date                                 2013-04-20\n",
       "v_type_of_assessment                     Risk of Violence\n",
       "v_decile_score                                          4\n",
       "v_score_text                                          Low\n",
       "v_screening_date                               2013-04-20\n",
       "in_custody                                     2013-04-19\n",
       "out_custody                                    2013-04-25\n",
       "priors_count.1                                          5\n",
       "start                                                   5\n",
       "end                                                    27\n",
       "event                                                   1\n",
       "Name: 4044, dtype: object"
      ]
     },
     "execution_count": 94,
     "metadata": {},
     "output_type": "execute_result"
    }
   ],
   "source": [
    "X_test.iloc[2, :]"
   ]
  }
 ],
 "metadata": {
  "kernelspec": {
   "display_name": "env",
   "language": "python",
   "name": "env"
  },
  "language_info": {
   "codemirror_mode": {
    "name": "ipython",
    "version": 3
   },
   "file_extension": ".py",
   "mimetype": "text/x-python",
   "name": "python",
   "nbconvert_exporter": "python",
   "pygments_lexer": "ipython3",
   "version": "3.8.10"
  },
  "toc": {
   "base_numbering": 1,
   "nav_menu": {},
   "number_sections": true,
   "sideBar": true,
   "skip_h1_title": false,
   "title_cell": "Table of Contents",
   "title_sidebar": "Contents",
   "toc_cell": false,
   "toc_position": {},
   "toc_section_display": true,
   "toc_window_display": false
  }
 },
 "nbformat": 4,
 "nbformat_minor": 5
}
